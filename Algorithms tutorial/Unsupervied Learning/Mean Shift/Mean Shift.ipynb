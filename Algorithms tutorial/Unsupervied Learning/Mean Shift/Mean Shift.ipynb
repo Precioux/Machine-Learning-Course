{
 "cells": [
  {
   "cell_type": "markdown",
   "id": "862b06f7",
   "metadata": {},
   "source": [
    "# Mean Shift"
   ]
  },
  {
   "cell_type": "markdown",
   "id": "541b3a8b",
   "metadata": {},
   "source": [
    "Before getting started we gonna talk about __Hierarchical Clustering__.\n",
    "\n",
    "Also called __Hierarchical cluster analysis or HCA__ is an unsupervised clustering algorithm which involves creating clusters that have predominant ordering from top to bottom.\n",
    "\n",
    "The algorithm groups similar objects into groups called clusters. The endpoint is a set of clusters or groups, where each cluster is distinct from each other cluster, and the objects within each cluster are broadly similar to each other.\n",
    "\n",
    "This clustering technique is divided into two types:\n",
    "- Agglomerative Hierarchical Clustering\n",
    "- Divisive Hierarchical Clustering\n",
    "\n",
    "#### Agglomerative Hierarchical Clustering\n",
    " \n",
    "The Agglomerative Hierarchical Clustering is the most common type of hierarchical clustering used to group objects in clusters based on their __similarity__. It’s also known as AGNES (Agglomerative Nesting). It's a “bottom-up” approach: each observation starts in its own cluster, and pairs of clusters are merged as one moves up the hierarchy.\n",
    "\n",
    "#### How does it work?\n",
    "\n",
    "- Make each data point a single-point cluster → forms N clusters\n",
    "- Take the two closest data points and make them one cluster → forms N-1 clusters\n",
    "- Take the two closest clusters and make them one cluster → Forms N-2 clusters.\n",
    "- Repeat step-3 until you are left with only one cluster. \n",
    "\n",
    "There are several ways to measure the distance between clusters in order to decide the rules for clustering, and they are often called Linkage Methods. Some of the common linkage methods are:\n",
    "\n",
    "- Complete-linkage: the distance between two clusters is defined as the longest distance between two points in each cluster.\n",
    "- Single-linkage: the distance between two clusters is defined as the shortest distance between two points in each cluster. This linkage may be used to detect high values in your dataset which may be outliers as they will be merged at the end.\n",
    "- Average-linkage: the distance between two clusters is defined as the average distance between each point in one cluster to every point in the other cluster.\n",
    "- Centroid-linkage: finds the centroid of cluster 1 and centroid of cluster 2, and then calculates the distance between the two before merging. \n",
    "\n",
    "The choice of linkage method entirely depends on you and there is no hard and fast method that will always give you good results. Different linkage methods lead to different clusters.\n",
    "\n",
    "The point of doing all this is to demonstrate the way hierarchical clustering works, it maintains a memory of how we went through this process and that memory is stored in __Dendrogram__.\n",
    "\n",
    "#### What is a Dendrogram?\n",
    "\n",
    "A Dendrogram is a type of tree diagram showing hierarchical relationships between different sets of data.\n",
    "\n",
    "As already said a Dendrogram contains the memory of hierarchical clustering algorithm, so just by looking at the Dendrgram you can tell how the cluster is formed."
   ]
  },
  {
   "cell_type": "markdown",
   "id": "173ebc36",
   "metadata": {},
   "source": [
    "#### Sources : \n",
    "- https://www.kdnuggets.com/2019/09/hierarchical-clustering.html#:~:text=Also%20called%20Hierarchical%20cluster%20analysis,objects%20into%20groups%20called%20clusters.\n",
    "- https://spin.atomicobject.com/2015/05/26/mean-shift-clustering/"
   ]
  },
  {
   "cell_type": "code",
   "execution_count": null,
   "id": "a7d4ffcf",
   "metadata": {},
   "outputs": [],
   "source": []
  }
 ],
 "metadata": {
  "kernelspec": {
   "display_name": "Python 3 (ipykernel)",
   "language": "python",
   "name": "python3"
  },
  "language_info": {
   "codemirror_mode": {
    "name": "ipython",
    "version": 3
   },
   "file_extension": ".py",
   "mimetype": "text/x-python",
   "name": "python",
   "nbconvert_exporter": "python",
   "pygments_lexer": "ipython3",
   "version": "3.9.12"
  }
 },
 "nbformat": 4,
 "nbformat_minor": 5
}
