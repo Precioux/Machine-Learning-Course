{
 "cells": [
  {
   "cell_type": "markdown",
   "id": "e50f524b",
   "metadata": {},
   "source": [
    "# Ridge Regression"
   ]
  },
  {
   "cell_type": "markdown",
   "id": "fb0bb808",
   "metadata": {},
   "source": [
    "Ridge regression is a model tuning method that is used to analyse any data that suffers from multicollinearity. This method performs L2 regularization. When the issue of multicollinearity occurs, least-squares are unbiased, and variances are large, this results in predicted values being far away from the actual values. \n",
    "\n",
    "#### Ridge regression is the regularized form of linear regression"
   ]
  },
  {
   "cell_type": "markdown",
   "id": "03be0127",
   "metadata": {},
   "source": [
    "The cost function for ridge regression:\n",
    "\n",
    "Min(||Y – X(theta)||^2 + λ||theta||^2)\n",
    "\n",
    "Lambda is the penalty term. λ given here is denoted by an alpha parameter in the ridge function. So, by changing the values of alpha, we are controlling the penalty term. The higher the values of alpha, the bigger is the penalty and therefore the magnitude of coefficients is reduced.\n",
    "\n",
    "- It shrinks the parameters. Therefore, it is used to prevent multicollinearity\n",
    "- It reduces the model complexity by coefficient shrinkage"
   ]
  },
  {
   "cell_type": "markdown",
   "id": "5d78799e",
   "metadata": {},
   "source": [
    "## Ridge Regression Models \n",
    "\n",
    "For any type of regression machine learning model, the usual regression equation forms the base which is written as:\n",
    "\n",
    "Y = XB + e\n",
    "\n",
    "Where Y is the dependent variable, X represents the independent variables, B is the regression coefficients to be estimated, and e represents the errors are residuals. \n",
    "\n",
    "Once we add the lambda function to this equation, the variance that is not evaluated by the general model is considered. After the data is ready and identified to be part of L2 regularization, there are steps that one can undertake."
   ]
  },
  {
   "cell_type": "markdown",
   "id": "642e0f9f",
   "metadata": {},
   "source": [
    "### Standardization  \n",
    "\n",
    "In ridge regression, the first step is to standardize the variables (both dependent and independent) by subtracting their means and dividing by their standard deviations. This causes a challenge in notation since we must somehow indicate whether the variables in a particular formula are standardized or not. As far as standardization is concerned, all ridge regression calculations are based on standardized variables. When the final regression coefficients are displayed, they are adjusted back into their original scale. However, the ridge trace is on a standardized scale.\n",
    "\n",
    "Standardization \n",
    "In ridge regression, the first step is to standardize the variables (both dependent and independent) by subtracting their means and dividing by their standard deviations. This causes a challenge in notation since we must somehow indicate whether the variables in a particular formula are standardized or not. As far as standardization is concerned, all ridge regression calculations are based on standardized variables. When the final regression coefficients are displayed, they are adjusted back into their original scale. However, the ridge trace is on a standardized scale.\n",
    "\n",
    "\n",
    "### Bias and variance trade-off\n",
    "\n",
    "Bias and variance trade-off is generally complicated when it comes to building ridge regression models on an actual dataset. However, following the general trend which one needs to remember is:\n",
    "\n",
    "#### The bias increases as λ increases.\n",
    "#### The variance decreases as λ increases.\n",
    "Assumptions of Ridge Regressions\n",
    "The assumptions of ridge regression are the same as that of linear regression: linearity, constant variance, and independence. However, as ridge regression does not provide confidence limits, the distribution of errors to be normal need not be assumed.\n",
    "\n"
   ]
  },
  {
   "cell_type": "markdown",
   "id": "ab82749e",
   "metadata": {},
   "source": [
    "# Implementation "
   ]
  },
  {
   "cell_type": "code",
   "execution_count": 4,
   "id": "b2417b47",
   "metadata": {},
   "outputs": [
    {
     "data": {
      "text/plain": [
       "[<matplotlib.lines.Line2D at 0x1a886655df0>]"
      ]
     },
     "execution_count": 4,
     "metadata": {},
     "output_type": "execute_result"
    },
    {
     "data": {
      "image/png": "[encoded data removed]",
      "text/plain": [
       "<Figure size 432x288 with 1 Axes>"
      ]
     },
     "metadata": {
      "needs_background": "light"
     },
     "output_type": "display_data"
    }
   ],
   "source": [
    "\"\"\"\n",
    "===============================================\n",
    "Objective: Explain various optimization algorithms in deep learning\n",
    "Author: Anber Arif\n",
    "Blog: https://dataaspirant.com\n",
    "Date: 2020-11-11\n",
    "===============================================\n",
    "\"\"\"\n",
    "\n",
    "\n",
    "## Requried Python Packages\n",
    "from sklearn.datasets import make_regression\n",
    "from matplotlib import pyplot as plt\n",
    "import numpy as np\n",
    "from sklearn.linear_model import Ridge\n",
    "\n",
    "\n",
    "## Create datasets\n",
    "A, b, coefficients = make_regression(\n",
    "    n_samples=50,\n",
    "    n_features=1,\n",
    "    n_informative=1,\n",
    "    n_targets=1,\n",
    "    noise=5,\n",
    "    coef=True,\n",
    "    random_state=1\n",
    ")\n",
    "\n",
    "\n",
    "alpha = 1\n",
    "n, m = A.shape\n",
    "\n",
    "I = np.identity(m)\n",
    "w = np.dot(np.dot(np.linalg.inv(np.dot(A.T, A) + alpha * I), A.T), b)\n",
    "\n",
    "## Outputs\n",
    "## w = array([87.37153533])\n",
    "## coefficients = array(90.34019153)\n",
    "\n",
    "plt.scatter(A, b)\n",
    "plt.plot(A, w*A, c='red')\n",
    "\n",
    "\n",
    "## ridge with alpha 0.5\n",
    "rr = Ridge(alpha=0.5)\n",
    "rr.fit(A, b)\n",
    "w = rr.coef_\n",
    "\n",
    "## Output w = array([88.31917399])\n",
    "\n",
    "plt.scatter(A, b)\n",
    "plt.plot(A, w*A, c='red')\n",
    "\n",
    "## ridge with alpha 10\n",
    "rr = Ridge(alpha=10)\n",
    "rr.fit(A, b)\n",
    "w = rr.coef_[0]\n",
    "plt.scatter(A, b)\n",
    "plt.plot(A, w*A, c='red')\n",
    "\n",
    "## ridge with alpha 100\n",
    "rr = Ridge(alpha=100)\n",
    "rr.fit(A, b)\n",
    "w = rr.coef_[0]\n",
    "plt.scatter(A, b)\n",
    "plt.plot(A, w*A, c='red')"
   ]
  },
  {
   "cell_type": "markdown",
   "id": "5ea38028",
   "metadata": {},
   "source": [
    "### Sources :\n",
    "- https://www.mygreatlearning.com/blog/what-is-ridge-regression/#:~:text=Ridge%20regression%20is%20a%20model,away%20from%20the%20actual%20values.\n",
    "- https://dataaspirant.com/ridge-regression/\n",
    "- https://blog.faradars.org/ridge-regression/"
   ]
  },
  {
   "cell_type": "code",
   "execution_count": null,
   "id": "d34ef021",
   "metadata": {},
   "outputs": [],
   "source": []
  }
 ],
 "metadata": {
  "kernelspec": {
   "display_name": "Python 3 (ipykernel)",
   "language": "python",
   "name": "python3"
  },
  "language_info": {
   "codemirror_mode": {
    "name": "ipython",
    "version": 3
   },
   "file_extension": ".py",
   "mimetype": "text/x-python",
   "name": "python",
   "nbconvert_exporter": "python",
   "pygments_lexer": "ipython3",
   "version": "3.9.12"
  }
 },
 "nbformat": 4,
 "nbformat_minor": 5
}
