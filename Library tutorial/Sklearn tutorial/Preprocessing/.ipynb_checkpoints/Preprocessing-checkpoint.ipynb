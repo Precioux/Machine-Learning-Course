{
 "cells": [
  {
   "cell_type": "markdown",
   "id": "9c7a56b8",
   "metadata": {},
   "source": [
    "# Sklearn Preprocessing"
   ]
  },
  {
   "cell_type": "markdown",
   "id": "fddd9bc6",
   "metadata": {},
   "source": [
    "## Standardization, or mean removal and variance scaling"
   ]
  },
  {
   "cell_type": "markdown",
   "id": "4a4057bb",
   "metadata": {},
   "source": [
    " Standardization of datasets is a common requirement for many machine learning estimators implemented in scikit-learn; they might behave badly if the individual features do not more or less look like standard normally distributed data: Gaussian with zero mean and unit variance."
   ]
  },
  {
   "cell_type": "markdown",
   "id": "90a50783",
   "metadata": {},
   "source": [
    "StandardScaler removes the mean and scales the data to unit variance. The scaling shrinks the range of the feature values as shown in the left figure below. However, the outliers have an influence when computing the empirical mean and standard deviation."
   ]
  },
  {
   "cell_type": "markdown",
   "id": "ac2dc8b8",
   "metadata": {},
   "source": [
    "### The preprocessing module provides the StandardScaler utility class, which is a quick and easy way to perform the following operation on an array-like dataset:"
   ]
  },
  {
   "cell_type": "code",
   "execution_count": 1,
   "id": "ca072f06",
   "metadata": {},
   "outputs": [
    {
     "data": {
      "text/plain": [
       "StandardScaler()"
      ]
     },
     "execution_count": 1,
     "metadata": {},
     "output_type": "execute_result"
    }
   ],
   "source": [
    "from sklearn import preprocessing\n",
    "import matplotlib.pyplot as plt\n",
    "import numpy as np\n",
    "\n",
    "X_train = np.array([[ 1., -1.,  2.],\n",
    "                    [ 2.,  0.,  0.],\n",
    "                    [ 0.,  1., -1.]])\n",
    "scaler = preprocessing.StandardScaler().fit(X_train)\n",
    "scaler"
   ]
  },
  {
   "cell_type": "code",
   "execution_count": 2,
   "id": "7d5ef0c4",
   "metadata": {},
   "outputs": [
    {
     "data": {
      "text/plain": [
       "(array([1., 0., 0., 0., 0., 0., 0., 0., 0., 0., 0., 0., 0., 0., 0., 0., 1.,\n",
       "        0., 0., 0., 0., 0., 0., 0., 0., 0., 0., 0., 0., 0., 0., 0., 0., 0.,\n",
       "        0., 0., 0., 0., 0., 0., 0., 0., 0., 0., 0., 0., 0., 0., 0., 1.]),\n",
       " array([-1.  , -0.94, -0.88, -0.82, -0.76, -0.7 , -0.64, -0.58, -0.52,\n",
       "        -0.46, -0.4 , -0.34, -0.28, -0.22, -0.16, -0.1 , -0.04,  0.02,\n",
       "         0.08,  0.14,  0.2 ,  0.26,  0.32,  0.38,  0.44,  0.5 ,  0.56,\n",
       "         0.62,  0.68,  0.74,  0.8 ,  0.86,  0.92,  0.98,  1.04,  1.1 ,\n",
       "         1.16,  1.22,  1.28,  1.34,  1.4 ,  1.46,  1.52,  1.58,  1.64,\n",
       "         1.7 ,  1.76,  1.82,  1.88,  1.94,  2.  ]),\n",
       " <BarContainer object of 50 artists>)"
      ]
     },
     "execution_count": 2,
     "metadata": {},
     "output_type": "execute_result"
    },
    {
     "data": {
      "image/png": "[encoded data removed]",
      "text/plain": [
       "<Figure size 432x288 with 1 Axes>"
      ]
     },
     "metadata": {
      "needs_background": "light"
     },
     "output_type": "display_data"
    },
    {
     "data": {
      "image/png": "[encoded data removed]",
      "text/plain": [
       "<Figure size 432x288 with 1 Axes>"
      ]
     },
     "metadata": {
      "needs_background": "light"
     },
     "output_type": "display_data"
    },
    {
     "data": {
      "image/png": "[encoded data removed]",
      "text/plain": [
       "<Figure size 432x288 with 1 Axes>"
      ]
     },
     "metadata": {
      "needs_background": "light"
     },
     "output_type": "display_data"
    }
   ],
   "source": [
    "plt.hist(X_train[:,0],bins=50)\n",
    "plt.figure()\n",
    "plt.hist(X_train[:,1],bins=50)\n",
    "plt.figure()\n",
    "plt.hist(X_train[:,2],bins=50)"
   ]
  },
  {
   "cell_type": "code",
   "execution_count": 3,
   "id": "7ed5112a",
   "metadata": {},
   "outputs": [
    {
     "data": {
      "text/plain": [
       "1.1358024691358024"
      ]
     },
     "execution_count": 3,
     "metadata": {},
     "output_type": "execute_result"
    }
   ],
   "source": [
    "X_train.var()"
   ]
  },
  {
   "cell_type": "markdown",
   "id": "f5bca62b",
   "metadata": {},
   "source": [
    "## Notice that:\n",
    "### mean = preprocessing.StandardScaler().fit(X_train).mean_  (میانگین)\n",
    "### variance = preprocessing.StandardScaler().fit(X_train).var_ (واریانس)\n",
    "### Standard_deviation = preprocessing.StandardScaler().fit(X_train).scale_ (انحراف معیار)"
   ]
  },
  {
   "cell_type": "code",
   "execution_count": 4,
   "id": "3ed89d1e",
   "metadata": {},
   "outputs": [
    {
     "data": {
      "text/plain": [
       "array([1.        , 0.        , 0.33333333])"
      ]
     },
     "execution_count": 4,
     "metadata": {},
     "output_type": "execute_result"
    }
   ],
   "source": [
    "scaler.mean_"
   ]
  },
  {
   "cell_type": "code",
   "execution_count": 5,
   "id": "1c6f1396",
   "metadata": {},
   "outputs": [
    {
     "data": {
      "text/plain": [
       "array([0.81649658, 0.81649658, 1.24721913])"
      ]
     },
     "execution_count": 5,
     "metadata": {},
     "output_type": "execute_result"
    }
   ],
   "source": [
    "scaler.scale_"
   ]
  },
  {
   "cell_type": "code",
   "execution_count": 6,
   "id": "a2aae4e4",
   "metadata": {},
   "outputs": [
    {
     "data": {
      "text/plain": [
       "array([0.66666667, 0.66666667, 1.55555556])"
      ]
     },
     "execution_count": 6,
     "metadata": {},
     "output_type": "execute_result"
    }
   ],
   "source": [
    "scaler.var_"
   ]
  },
  {
   "cell_type": "code",
   "execution_count": 7,
   "id": "b9e0aee3",
   "metadata": {},
   "outputs": [
    {
     "data": {
      "text/plain": [
       "array([[ 0.        , -1.22474487,  1.33630621],\n",
       "       [ 1.22474487,  0.        , -0.26726124],\n",
       "       [-1.22474487,  1.22474487, -1.06904497]])"
      ]
     },
     "execution_count": 7,
     "metadata": {},
     "output_type": "execute_result"
    }
   ],
   "source": [
    "X_scaled = scaler.transform(X_train)\n",
    "X_scaled"
   ]
  },
  {
   "cell_type": "code",
   "execution_count": 8,
   "id": "df0743b5",
   "metadata": {},
   "outputs": [
    {
     "data": {
      "text/plain": [
       "4.9343245538895844e-17"
      ]
     },
     "execution_count": 8,
     "metadata": {},
     "output_type": "execute_result"
    }
   ],
   "source": [
    "X_scaled.mean()"
   ]
  },
  {
   "cell_type": "code",
   "execution_count": 9,
   "id": "aa2d9a66",
   "metadata": {},
   "outputs": [
    {
     "data": {
      "text/plain": [
       "1.0"
      ]
     },
     "execution_count": 9,
     "metadata": {},
     "output_type": "execute_result"
    }
   ],
   "source": [
    "X_scaled.var()"
   ]
  },
  {
   "cell_type": "markdown",
   "id": "19648993",
   "metadata": {},
   "source": [
    "####  Compute the standard deviation of the given data (array elements) along the specified axis(if any).. Standard Deviation (SD) is measured as the spread of data distribution in the given data set."
   ]
  },
  {
   "cell_type": "code",
   "execution_count": 10,
   "id": "2290f03e",
   "metadata": {},
   "outputs": [
    {
     "data": {
      "text/plain": [
       "array([0., 0., 0.])"
      ]
     },
     "execution_count": 10,
     "metadata": {},
     "output_type": "execute_result"
    }
   ],
   "source": [
    "X_scaled.mean(axis=0)"
   ]
  },
  {
   "cell_type": "code",
   "execution_count": 11,
   "id": "4a2a0063",
   "metadata": {},
   "outputs": [
    {
     "data": {
      "text/plain": [
       "array([1., 1., 1.])"
      ]
     },
     "execution_count": 11,
     "metadata": {},
     "output_type": "execute_result"
    }
   ],
   "source": [
    "X_scaled.std(axis=0)"
   ]
  },
  {
   "cell_type": "code",
   "execution_count": 12,
   "id": "cecc6c7f",
   "metadata": {},
   "outputs": [
    {
     "data": {
      "text/plain": [
       "(array([1., 0., 0., 0., 0., 0., 0., 0., 0., 0., 0., 0., 0., 0., 0., 0., 1.,\n",
       "        0., 0., 0., 0., 0., 0., 0., 0., 0., 0., 0., 0., 0., 0., 0., 0., 0.,\n",
       "        0., 0., 0., 0., 0., 0., 0., 0., 0., 0., 0., 0., 0., 0., 0., 1.]),\n",
       " array([-1.06904497, -1.02093794, -0.97283092, -0.9247239 , -0.87661687,\n",
       "        -0.82850985, -0.78040283, -0.7322958 , -0.68418878, -0.63608176,\n",
       "        -0.58797473, -0.53986771, -0.49176069, -0.44365366, -0.39554664,\n",
       "        -0.34743961, -0.29933259, -0.25122557, -0.20311854, -0.15501152,\n",
       "        -0.1069045 , -0.05879747, -0.01069045,  0.03741657,  0.0855236 ,\n",
       "         0.13363062,  0.18173764,  0.22984467,  0.27795169,  0.32605872,\n",
       "         0.37416574,  0.42227276,  0.47037979,  0.51848681,  0.56659383,\n",
       "         0.61470086,  0.66280788,  0.7109149 ,  0.75902193,  0.80712895,\n",
       "         0.85523597,  0.903343  ,  0.95145002,  0.99955704,  1.04766407,\n",
       "         1.09577109,  1.14387812,  1.19198514,  1.24009216,  1.28819919,\n",
       "         1.33630621]),\n",
       " <BarContainer object of 50 artists>)"
      ]
     },
     "execution_count": 12,
     "metadata": {},
     "output_type": "execute_result"
    },
    {
     "data": {
      "image/png": "[encoded data removed]",
      "text/plain": [
       "<Figure size 432x288 with 1 Axes>"
      ]
     },
     "metadata": {
      "needs_background": "light"
     },
     "output_type": "display_data"
    },
    {
     "data": {
      "image/png": "[encoded data removed]",
      "text/plain": [
       "<Figure size 432x288 with 1 Axes>"
      ]
     },
     "metadata": {
      "needs_background": "light"
     },
     "output_type": "display_data"
    },
    {
     "data": {
      "image/png": "[encoded data removed]",
      "text/plain": [
       "<Figure size 432x288 with 1 Axes>"
      ]
     },
     "metadata": {
      "needs_background": "light"
     },
     "output_type": "display_data"
    }
   ],
   "source": [
    "plt.hist(X_scaled[:,0],bins=50)\n",
    "plt.figure()\n",
    "plt.hist(X_scaled[:,1],bins=50)\n",
    "plt.figure()\n",
    "plt.hist(X_scaled[:,2],bins=50)"
   ]
  },
  {
   "cell_type": "code",
   "execution_count": 13,
   "id": "1aa145a7",
   "metadata": {},
   "outputs": [
    {
     "data": {
      "text/plain": [
       "0.96"
      ]
     },
     "execution_count": 13,
     "metadata": {},
     "output_type": "execute_result"
    }
   ],
   "source": [
    "from sklearn.datasets import make_classification\n",
    "from sklearn.linear_model import LogisticRegression\n",
    "from sklearn.model_selection import train_test_split\n",
    "from sklearn.pipeline import make_pipeline\n",
    "from sklearn.preprocessing import StandardScaler\n",
    "\n",
    "X, y = make_classification(random_state=42)\n",
    "X_train, X_test, y_train, y_test = train_test_split(X, y, random_state=42)\n",
    "pipe = make_pipeline(StandardScaler(), LogisticRegression())\n",
    "\n",
    "pipe.fit(X_train, y_train)  # apply scaling on training data\n",
    "pipe.score(X_test, y_test)  # apply scaling on testing data, without leaking training data."
   ]
  },
  {
   "cell_type": "markdown",
   "id": "1f3513aa",
   "metadata": {},
   "source": [
    "### Note that :"
   ]
  },
  {
   "cell_type": "markdown",
   "id": "8a7cb5af",
   "metadata": {},
   "source": [
    "#### - Make Classification :  Generate a random n-class classification problem. This initially creates clusters of points normally distributed (std=1) about vertices of an n_informative -dimensional hypercube with sides of length 2*class_sep and assigns an equal number of clusters to each class."
   ]
  },
  {
   "cell_type": "markdown",
   "id": "aa421dbe",
   "metadata": {},
   "source": [
    "#### -This function takes a loaded dataset as input and returns the dataset split into two subsets: \n",
    "#### train_test_split(*arrays, test_size=None, train_size=None, random_state=None, shuffle=True, stratify=None)"
   ]
  },
  {
   "cell_type": "markdown",
   "id": "ea9814f8",
   "metadata": {},
   "source": [
    "#### test_size: this is a float value whose value ranges between 0.0 and 1.0. it represents the proportion of our test size. its default value is none. \n",
    "#### train_size: this is a float value whose value ranges between 0.0 and 1.0. it represents the proportion of our train size. its default value is none.\n",
    "#### random_state: this parameter is used to control the shuffling applied to the data before applying the split. it acts as a seed.\n",
    "#### shuffle: This parameter is used to shuffle the data before splitting. Its default value is true.\n",
    "#### stratify: This parameter is used to split the data in a stratified fashion."
   ]
  },
  {
   "cell_type": "markdown",
   "id": "75fd62f7",
   "metadata": {},
   "source": [
    "fit() that only fit the data which is synonymous to train, that is fit the data means train the data. score is something like testing or predict.So one should use different dataset for training the classifier and testing the acuracy"
   ]
  },
  {
   "cell_type": "markdown",
   "id": "f0955eff",
   "metadata": {},
   "source": [
    "### It is possible to disable either centering or scaling by either passing with_mean=False or with_std=False to the constructor of StandardScaler."
   ]
  },
  {
   "cell_type": "markdown",
   "id": "f4313ab3",
   "metadata": {},
   "source": [
    "## Scaling features to a range"
   ]
  },
  {
   "cell_type": "markdown",
   "id": "7abdcdb1",
   "metadata": {},
   "source": [
    "An alternative standardization is scaling features to lie between a given minimum and maximum value, often between zero and one, or so that the maximum absolute value of each feature is scaled to unit size. This can be achieved using MinMaxScaler or MaxAbsScaler, respectively.\n",
    "\n",
    "The motivation to use this scaling include robustness to very small standard deviations of features and preserving zero entries in sparse data"
   ]
  },
  {
   "cell_type": "markdown",
   "id": "9fc89425",
   "metadata": {},
   "source": [
    "### MinMaxScaler(feature_range=(0, 1), *, copy=True, clip=False)"
   ]
  },
  {
   "cell_type": "markdown",
   "id": "f2c5223f",
   "metadata": {},
   "source": [
    "Transform features by scaling each feature to a given range.\n",
    "\n",
    "This estimator scales and translates each feature individually such that it is in the given range on the training set, e.g. between zero and one.\n",
    "\n",
    "The transformation is given by:\n",
    "#### X_std = (X - X.min(axis=0)) / (X.max(axis=0) - X.min(axis=0))\n",
    "#### X_scaled = X_std * (max - min) + min"
   ]
  },
  {
   "cell_type": "code",
   "execution_count": 14,
   "id": "0f7660be",
   "metadata": {},
   "outputs": [
    {
     "data": {
      "text/plain": [
       "array([[0.5       , 0.        , 1.        ],\n",
       "       [1.        , 0.5       , 0.33333333],\n",
       "       [0.        , 1.        , 0.        ]])"
      ]
     },
     "execution_count": 14,
     "metadata": {},
     "output_type": "execute_result"
    }
   ],
   "source": [
    "X_train = np.array([[ 1., -1.,  2.],\n",
    "                    [ 2.,  0.,  0.],\n",
    "                    [ 0.,  1., -1.]])\n",
    "\n",
    "min_max_scaler = preprocessing.MinMaxScaler()\n",
    "X_train_minmax = min_max_scaler.fit_transform(X_train)\n",
    "X_train_minmax"
   ]
  },
  {
   "cell_type": "markdown",
   "id": "fe0531df",
   "metadata": {},
   "source": [
    "### MaxAbsScaler(*, copy=True)"
   ]
  },
  {
   "cell_type": "markdown",
   "id": "a4239817",
   "metadata": {},
   "source": [
    "Scale each feature by its maximum absolute value.\n",
    "\n",
    "This estimator scales and translates each feature individually such that the maximal absolute value of each feature in the training set will be 1.0. It does not shift/center the data, and thus does not destroy any sparsity."
   ]
  },
  {
   "cell_type": "markdown",
   "id": "efefa2ec",
   "metadata": {},
   "source": [
    "MaxAbsScaler works in a very similar fashion, but scales in a way that the training data lies within the range [-1, 1] by dividing through the largest maximum value in each feature. It is meant for data that is already centered at zero or sparse data.\n",
    "\n",
    "Here is how to use the toy data from the previous example with this scaler:"
   ]
  },
  {
   "cell_type": "code",
   "execution_count": 15,
   "id": "13e59e89",
   "metadata": {},
   "outputs": [
    {
     "data": {
      "text/plain": [
       "array([[ 0.5, -1. ,  1. ],\n",
       "       [ 1. ,  0. ,  0. ],\n",
       "       [ 0. ,  1. , -0.5]])"
      ]
     },
     "execution_count": 15,
     "metadata": {},
     "output_type": "execute_result"
    }
   ],
   "source": [
    "X_train = np.array([[ 1., -1.,  2.],\n",
    "                    [ 2.,  0.,  0.],\n",
    "                    [ 0.,  1., -1.]])\n",
    "\n",
    "max_abs_scaler = preprocessing.MaxAbsScaler()\n",
    "X_train_maxabs = max_abs_scaler.fit_transform(X_train)\n",
    "X_train_maxabs"
   ]
  },
  {
   "cell_type": "markdown",
   "id": "056ee252",
   "metadata": {},
   "source": [
    "### Scaling sparse data\n",
    "Centering sparse data would destroy the sparseness structure in the data, and thus rarely is a sensible thing to do. However, it can make sense to scale sparse inputs, especially if features are on different scales.\n",
    "\n",
    "MaxAbsScaler was specifically designed for scaling sparse data, and is the recommended way to go about this. However, StandardScaler can accept scipy.sparse matrices as input, as long as with_mean=False is explicitly passed to the constructor. Otherwise a ValueError will be raised as silently centering would break the sparsity and would often crash the execution by allocating excessive amounts of memory unintentionally. RobustScaler cannot be fitted to sparse inputs, but you can use the transform method on sparse inputs.\n",
    "\n",
    "Note that the scalers accept both Compressed Sparse Rows and Compressed Sparse Columns format (see scipy.sparse.csr_matrix and scipy.sparse.csc_matrix). Any other sparse input will be converted to the Compressed Sparse Rows representation. To avoid unnecessary memory copies, it is recommended to choose the CSR or CSC representation upstream.\n",
    "\n",
    "Finally, if the centered data is expected to be small enough, explicitly converting the input to an array using the toarray method of sparse matrices is another option."
   ]
  },
  {
   "cell_type": "markdown",
   "id": "a7c6385f",
   "metadata": {},
   "source": [
    "### Scaling data with outliers\n",
    "If your data contains many outliers, scaling using the mean and variance of the data is likely to not work very well. In these cases, you can use RobustScaler as a drop-in replacement instead. It uses more robust estimates for the center and range of your data."
   ]
  },
  {
   "cell_type": "markdown",
   "id": "60643a1a",
   "metadata": {},
   "source": [
    "### RobustScaler(*, with_centering=True, with_scaling=True, quantile_range=(25.0, 75.0), copy=True, unit_variance=False)"
   ]
  },
  {
   "cell_type": "markdown",
   "id": "1c98618c",
   "metadata": {},
   "source": [
    "Scale features using statistics that are robust to outliers.\n",
    "\n",
    "This Scaler removes the median and scales the data according to the quantile range (defaults to IQR: Interquartile Range). The IQR is the range between the 1st quartile (25th quantile) and the 3rd quartile (75th quantile).\n",
    "\n",
    "Centering and scaling happen independently on each feature by computing the relevant statistics on the samples in the training set. Median and interquartile range are then stored to be used on later data using the transform method.\n",
    "\n",
    "Standardization of a dataset is a common requirement for many machine learning estimators. Typically this is done by removing the mean and scaling to unit variance. However, outliers can often influence the sample mean / variance in a negative way. In such cases, the median and the interquartile range often give better results."
   ]
  },
  {
   "cell_type": "code",
   "execution_count": null,
   "id": "cc4690a2",
   "metadata": {},
   "outputs": [],
   "source": []
  }
 ],
 "metadata": {
  "kernelspec": {
   "display_name": "Python 3 (ipykernel)",
   "language": "python",
   "name": "python3"
  },
  "language_info": {
   "codemirror_mode": {
    "name": "ipython",
    "version": 3
   },
   "file_extension": ".py",
   "mimetype": "text/x-python",
   "name": "python",
   "nbconvert_exporter": "python",
   "pygments_lexer": "ipython3",
   "version": "3.9.12"
  }
 },
 "nbformat": 4,
 "nbformat_minor": 5
}
